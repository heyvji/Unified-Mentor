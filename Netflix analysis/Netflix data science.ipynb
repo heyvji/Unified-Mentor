{
 "cells": [
  {
   "cell_type": "code",
   "execution_count": null,
   "id": "f25f35fd",
   "metadata": {},
   "outputs": [],
   "source": []
  }
 ],
 "metadata": {
  "language_info": {
   "name": "python"
  }
 },
 "nbformat": 4,
 "nbformat_minor": 5
}
