{
 "cells": [
  {
   "cell_type": "code",
   "execution_count": 17,
   "id": "6a5d69c7",
   "metadata": {},
   "outputs": [],
   "source": [
    "import pandas as pd\n",
    "import numpy as np\n",
    "import matplotlib.pyplot as plt\n",
    "import seaborn as sns\n",
    "from sklearn.model_selection import train_test_split, GridSearchCV\n",
    "from sklearn.preprocessing import StandardScaler, OneHotEncoder\n",
    "from sklearn.compose import ColumnTransformer\n",
    "from sklearn.pipeline import Pipeline as SklearnPipeline \n",
    "from sklearn.metrics import accuracy_score, classification_report, confusion_matrix\n",
    "from sklearn.linear_model import LogisticRegression\n",
    "from sklearn.ensemble import RandomForestClassifier\n",
    "from imblearn.over_sampling import SMOTE\n",
    "from imblearn.pipeline import Pipeline as ImbPipeline \n",
    "import joblib"
   ]
  },
  {
   "cell_type": "code",
   "execution_count": 18,
   "id": "9b75b81b",
   "metadata": {},
   "outputs": [
    {
     "name": "stdout",
     "output_type": "stream",
     "text": [
      "Shape after dropping NaNs in 'Customer Satisfaction Rating': (2769, 18)\n",
      "\n",
      "Distribution of 'satisfied' target variable:\n",
      "satisfied\n",
      "0    0.60744\n",
      "1    0.39256\n",
      "Name: proportion, dtype: float64\n"
     ]
    }
   ],
   "source": [
    "# Load the dataset\n",
    "df = pd.read_csv('customer_support_tickets.csv')\n",
    "\n",
    "# --- Data Cleaning and Target Variable Creation ---\n",
    "\n",
    "# Drop rows where 'Customer Satisfaction Rating' is NaN, as it's our target variable\n",
    "df_cleaned = df.dropna(subset=['Customer Satisfaction Rating']).copy()\n",
    "\n",
    "# Create the binary 'satisfied' target variable\n",
    "df_cleaned['satisfied'] = (df_cleaned['Customer Satisfaction Rating'] >= 4).astype(int)\n",
    "\n",
    "print(\"Shape after dropping NaNs in 'Customer Satisfaction Rating':\", df_cleaned.shape)\n",
    "print(\"\\nDistribution of 'satisfied' target variable:\")\n",
    "print(df_cleaned['satisfied'].value_counts(normalize=True))"
   ]
  },
  {
   "cell_type": "code",
   "execution_count": null,
   "id": "ad0aaefe",
   "metadata": {},
   "outputs": [
    {
     "name": "stderr",
     "output_type": "stream",
     "text": [
      "C:\\Users\\Hi\\AppData\\Local\\Temp\\ipykernel_23328\\1849038298.py:13: FutureWarning: A value is trying to be set on a copy of a DataFrame or Series through chained assignment using an inplace method.\n",
      "The behavior will change in pandas 3.0. This inplace method will never work because the intermediate object on which we are setting values always behaves as a copy.\n",
      "\n",
      "For example, when doing 'df[col].method(value, inplace=True)', try using 'df.method({col: value}, inplace=True)' or df[col] = df[col].method(value) instead, to perform the operation inplace on the original object.\n",
      "\n",
      "\n",
      "  df_cleaned['time_to_resolution_hours'].fillna(df_cleaned['time_to_resolution_hours'].mean(), inplace=True)\n",
      "C:\\Users\\Hi\\AppData\\Local\\Temp\\ipykernel_23328\\1849038298.py:14: FutureWarning: A value is trying to be set on a copy of a DataFrame or Series through chained assignment using an inplace method.\n",
      "The behavior will change in pandas 3.0. This inplace method will never work because the intermediate object on which we are setting values always behaves as a copy.\n",
      "\n",
      "For example, when doing 'df[col].method(value, inplace=True)', try using 'df.method({col: value}, inplace=True)' or df[col] = df[col].method(value) instead, to perform the operation inplace on the original object.\n",
      "\n",
      "\n",
      "  df_cleaned['first_response_time_hours'].fillna(df_cleaned['first_response_time_hours'].mean(), inplace=True)\n"
     ]
    }
   ],
   "source": [
    "# --- Feature Engineering ---\n",
    "\n",
    "# Convert relevant time columns to datetime objects.\n",
    "df_cleaned['First Response Time'] = pd.to_datetime(df_cleaned['First Response Time'], errors='coerce')\n",
    "df_cleaned['Time to Resolution'] = pd.to_datetime(df_cleaned['Time to Resolution'], errors='coerce')\n",
    "df_cleaned['Date of Purchase'] = pd.to_datetime(df_cleaned['Date of Purchase'], errors='coerce')\n",
    "\n",
    "# Calculate 'time_to_resolution_hours' and 'first_response_time_hours'\n",
    "df_cleaned['time_to_resolution_hours'] = (df_cleaned['Time to Resolution'] - df_cleaned['First Response Time']).dt.total_seconds() / 3600\n",
    "df_cleaned['first_response_time_hours'] = (df_cleaned['First Response Time'] - df_cleaned['Date of Purchase']).dt.total_seconds() / 3600\n",
    "\n",
    "# Impute any NaN values in these newly engineered time features with their respective means.\n",
    "df_cleaned['time_to_resolution_hours'].fillna(df_cleaned['time_to_resolution_hours'].mean(), inplace=True)\n",
    "df_cleaned['first_response_time_hours'].fillna(df_cleaned['first_response_time_hours'].mean(), inplace=True)\n",
    "\n",
    "# Feature: Create 'customer_age_group'\n",
    "df_cleaned['customer_age_group'] = pd.cut(df_cleaned['Customer Age'],\n",
    "                                          bins=[18, 30, 45, 60, 100],\n",
    "                                          labels=['18-29', '30-44', '45-59', '60+'],\n",
    "                                          right=False,\n",
    "                                          include_lowest=True)\n"
   ]
  },
  {
   "cell_type": "code",
   "execution_count": 20,
   "id": "73590773",
   "metadata": {},
   "outputs": [
    {
     "name": "stdout",
     "output_type": "stream",
     "text": [
      "\n",
      "Features (X) Head:\n",
      "    Customer Age Customer Gender          Product Purchased  \\\n",
      "2             48           Other                   Dell XPS   \n",
      "3             27          Female           Microsoft Office   \n",
      "4             67          Female           Autodesk AutoCAD   \n",
      "10            48            Male            Nintendo Switch   \n",
      "11            51            Male  Microsoft Xbox Controller   \n",
      "\n",
      "             Ticket Type Ticket Status Ticket Priority Ticket Channel  \\\n",
      "2        Technical issue        Closed             Low   Social media   \n",
      "3        Billing inquiry        Closed             Low   Social media   \n",
      "4        Billing inquiry        Closed             Low          Email   \n",
      "10  Cancellation request        Closed            High          Phone   \n",
      "11       Product inquiry        Closed            High           Chat   \n",
      "\n",
      "    time_to_resolution_hours  first_response_time_hours customer_age_group  \n",
      "2                   6.850000               25259.233333              45-59  \n",
      "3                  -5.533333               22327.483333              18-29  \n",
      "4                  19.683333               29112.200000                60+  \n",
      "10                -17.916667               20729.766667              45-59  \n",
      "11                 -2.633333               14052.083333              45-59  \n",
      "\n",
      "Target (y) Head:\n",
      "2     0\n",
      "3     0\n",
      "4     0\n",
      "10    0\n",
      "11    0\n",
      "Name: satisfied, dtype: int64\n"
     ]
    }
   ],
   "source": [
    "#Select the features (X) and the target variable (y).\n",
    "X = df_cleaned.drop([\n",
    "    'Ticket ID', 'Customer Name', 'Customer Email', 'Customer Satisfaction Rating',\n",
    "    'satisfied', 'First Response Time', 'Time to Resolution',\n",
    "    'Date of Purchase', 'Resolution', 'Ticket Description', 'Ticket Subject'\n",
    "], axis=1, errors='ignore')\n",
    "y = df_cleaned['satisfied']\n",
    "\n",
    "print(\"\\nFeatures (X) Head:\")\n",
    "print(X.head())\n",
    "print(\"\\nTarget (y) Head:\")\n",
    "print(y.head())"
   ]
  },
  {
   "cell_type": "code",
   "execution_count": 21,
   "id": "cefa95d1",
   "metadata": {},
   "outputs": [
    {
     "name": "stdout",
     "output_type": "stream",
     "text": [
      "\n",
      "Selected Numerical Features: ['Customer Age', 'time_to_resolution_hours', 'first_response_time_hours']\n",
      "Selected Categorical Features: ['Customer Gender', 'Product Purchased', 'Ticket Type', 'Ticket Status', 'Ticket Priority', 'Ticket Channel']\n"
     ]
    }
   ],
   "source": [
    "# Identify numerical and categorical features\n",
    "numerical_features = X.select_dtypes(include=np.number).columns.tolist()\n",
    "categorical_features = X.select_dtypes(include='object').columns.tolist()\n",
    "\n",
    "print(\"\\nSelected Numerical Features:\", numerical_features)\n",
    "print(\"Selected Categorical Features:\", categorical_features)\n",
    "\n",
    "# Define the ColumnTransformer for preprocessing\n",
    "preprocessor = ColumnTransformer(\n",
    "    transformers=[\n",
    "        ('num', StandardScaler(), numerical_features),\n",
    "        ('cat', OneHotEncoder(handle_unknown='ignore'), categorical_features)\n",
    "    ])\n"
   ]
  },
  {
   "cell_type": "code",
   "execution_count": 22,
   "id": "81759d75",
   "metadata": {},
   "outputs": [
    {
     "name": "stdout",
     "output_type": "stream",
     "text": [
      "\n",
      "Training set shape: (2215, 10), (2215,)\n",
      "Test set shape: (554, 10), (554,)\n"
     ]
    }
   ],
   "source": [
    "\n",
    "# Split the data into training and testing sets.\n",
    "X_train, X_test, y_train, y_test = train_test_split(X, y, test_size=0.2, random_state=42, stratify=y)\n",
    "\n",
    "print(f\"\\nTraining set shape: {X_train.shape}, {y_train.shape}\")\n",
    "print(f\"Test set shape: {X_test.shape}, {y_test.shape}\")\n"
   ]
  },
  {
   "cell_type": "code",
   "execution_count": 23,
   "id": "51bdec07",
   "metadata": {},
   "outputs": [
    {
     "name": "stdout",
     "output_type": "stream",
     "text": [
      "\n",
      "--- Performing Hyperparameter Tuning for RandomForestClassifier with GridSearchCV ---\n"
     ]
    }
   ],
   "source": [
    "print(\"\\n--- Performing Hyperparameter Tuning for RandomForestClassifier with GridSearchCV ---\")\n",
    "\n",
    "# Define the pipeline steps: preprocessor -> SMOTE -> RandomForestClassifier\n",
    "# The 'smote' step should come after preprocessing and before the final estimator.\n",
    "pipeline = ImbPipeline(steps=[\n",
    "    ('preprocessor', preprocessor),\n",
    "    ('smote', SMOTE(random_state=42)),\n",
    "    ('classifier', RandomForestClassifier(random_state=42))\n",
    "])"
   ]
  },
  {
   "cell_type": "code",
   "execution_count": null,
   "id": "f8f35bd5",
   "metadata": {},
   "outputs": [],
   "source": [
    "# Define the parameter grid for GridSearchCV\n",
    "# We're tuning n_estimators and max_depth for RandomForestClassifier\n",
    "param_grid = {\n",
    "    'classifier__n_estimators': [50, 100, 150], # Number of trees\n",
    "    'classifier__max_depth': [None, 10, 20], # Maximum depth of the tree\n",
    "    'smote__sampling_strategy': ['auto', 0.75] # How much to resample minority class\n",
    "}"
   ]
  },
  {
   "cell_type": "code",
   "execution_count": null,
   "id": "df013fdd",
   "metadata": {},
   "outputs": [
    {
     "name": "stdout",
     "output_type": "stream",
     "text": [
      "Fitting 3 folds for each of 18 candidates, totalling 54 fits\n",
      "\n",
      "Best parameters found by GridSearchCV:\n",
      "{'classifier__max_depth': 10, 'classifier__n_estimators': 150, 'smote__sampling_strategy': 0.75}\n",
      "\n",
      "Best cross-validation accuracy:\n",
      "0.596392986933929\n"
     ]
    }
   ],
   "source": [
    "# Initialize GridSearchCV\n",
    "# cv=3 for 3-fold cross-validation\n",
    "# scoring='accuracy' can be changed to 'f1', 'roc_auc' etc. based on problem needs\n",
    "grid_search = GridSearchCV(pipeline, param_grid, cv=3, scoring='accuracy', n_jobs=-1, verbose=1)\n",
    "\n",
    "# Fit GridSearchCV to the training data\n",
    "grid_search.fit(X_train, y_train)\n",
    "\n",
    "print(\"\\nBest parameters found by GridSearchCV:\")\n",
    "print(grid_search.best_params_)\n",
    "print(\"\\nBest cross-validation accuracy:\")\n",
    "print(grid_search.best_score_) "
   ]
  },
  {
   "cell_type": "code",
   "execution_count": 26,
   "id": "bd904922",
   "metadata": {},
   "outputs": [
    {
     "name": "stdout",
     "output_type": "stream",
     "text": [
      "\n",
      "--- Evaluating the Best Model from GridSearchCV on Test Set ---\n",
      "Accuracy: 0.5974729241877257\n",
      "\n",
      "Classification Report:\n",
      "               precision    recall  f1-score   support\n",
      "\n",
      "           0       0.61      0.95      0.74       337\n",
      "           1       0.39      0.05      0.09       217\n",
      "\n",
      "    accuracy                           0.60       554\n",
      "   macro avg       0.50      0.50      0.42       554\n",
      "weighted avg       0.52      0.60      0.49       554\n",
      "\n",
      "\n",
      "Confusion Matrix:\n",
      " [[320  17]\n",
      " [206  11]]\n"
     ]
    }
   ],
   "source": [
    "# --- Evaluate the Best Model ---\n",
    "best_model = grid_search.best_estimator_\n",
    "\n",
    "print(\"\\n--- Evaluating the Best Model from GridSearchCV on Test Set ---\")\n",
    "y_pred = best_model.predict(X_test)\n",
    "\n",
    "print(\"Accuracy:\", accuracy_score(y_test, y_pred))\n",
    "print(\"\\nClassification Report:\\n\", classification_report(y_test, y_pred))\n",
    "print(\"\\nConfusion Matrix:\\n\", confusion_matrix(y_test, y_pred))"
   ]
  },
  {
   "cell_type": "code",
   "execution_count": 27,
   "id": "52873012",
   "metadata": {},
   "outputs": [
    {
     "data": {
      "image/png": "[encoded data removed]",
      "text/plain": [
       "<Figure size 600x400 with 2 Axes>"
      ]
     },
     "metadata": {},
     "output_type": "display_data"
    }
   ],
   "source": [
    "# Visualize Confusion Matrix for the best model\n",
    "plt.figure(figsize=(6, 4))\n",
    "sns.heatmap(confusion_matrix(y_test, y_pred), annot=True, fmt='d', cmap='Blues',\n",
    "            xticklabels=['Not Satisfied (0)', 'Satisfied (1)'], yticklabels=['Not Satisfied (0)', 'Satisfied (1)'])\n",
    "plt.title('Confusion Matrix for Best RandomForest Model')\n",
    "plt.xlabel('Predicted Label')\n",
    "plt.ylabel('True Label')\n",
    "plt.show()"
   ]
  },
  {
   "cell_type": "code",
   "execution_count": 28,
   "id": "cd28d9ed",
   "metadata": {},
   "outputs": [
    {
     "name": "stdout",
     "output_type": "stream",
     "text": [
      "\n",
      "Best model (including preprocessor and SMOTE) saved as 'best_customer_satisfaction_model.pkl'\n",
      "\n",
      "--- Evaluating Logistic Regression (for comparison, no extensive tuning here) ---\n",
      "Accuracy (Logistic Regression): 0.51985559566787\n",
      "\n",
      "Classification Report (Logistic Regression):\n",
      "               precision    recall  f1-score   support\n",
      "\n",
      "           0       0.62      0.54      0.58       337\n",
      "           1       0.41      0.49      0.44       217\n",
      "\n",
      "    accuracy                           0.52       554\n",
      "   macro avg       0.51      0.51      0.51       554\n",
      "weighted avg       0.54      0.52      0.53       554\n",
      "\n",
      "\n",
      "Confusion Matrix (Logistic Regression):\n",
      " [[182 155]\n",
      " [111 106]]\n",
      "Logistic Regression model saved as 'logistic_regression_customer_satisfaction_model.pkl'\n"
     ]
    }
   ],
   "source": [
    "# --- Save the Best Model ---\n",
    "joblib.dump(best_model, 'best_customer_satisfaction_model.pkl')\n",
    "print(\"\\nBest model (including preprocessor and SMOTE) saved as 'best_customer_satisfaction_model.pkl'\")\n",
    "\n",
    "# --- Optional: Evaluate Logistic Regression without extensive tuning for comparison ---\n",
    "print(\"\\n--- Evaluating Logistic Regression (for comparison, no extensive tuning here) ---\")\n",
    "lr_pipeline = ImbPipeline(steps=[\n",
    "    ('preprocessor', preprocessor),\n",
    "    ('smote', SMOTE(random_state=42)),\n",
    "    ('classifier', LogisticRegression(random_state=42, solver='liblinear', max_iter=1000))\n",
    "])\n",
    "lr_pipeline.fit(X_train, y_train)\n",
    "y_pred_lr = lr_pipeline.predict(X_test)\n",
    "\n",
    "print(\"Accuracy (Logistic Regression):\", accuracy_score(y_test, y_pred_lr))\n",
    "print(\"\\nClassification Report (Logistic Regression):\\n\", classification_report(y_test, y_pred_lr))\n",
    "print(\"\\nConfusion Matrix (Logistic Regression):\\n\", confusion_matrix(y_test, y_pred_lr))\n",
    "\n",
    "joblib.dump(lr_pipeline, 'logistic_regression_customer_satisfaction_model.pkl')\n",
    "print(\"Logistic Regression model saved as 'logistic_regression_customer_satisfaction_model.pkl'\")"
   ]
  }
 ],
 "metadata": {
  "kernelspec": {
   "display_name": "Python 3",
   "language": "python",
   "name": "python3"
  },
  "language_info": {
   "codemirror_mode": {
    "name": "ipython",
    "version": 3
   },
   "file_extension": ".py",
   "mimetype": "text/x-python",
   "name": "python",
   "nbconvert_exporter": "python",
   "pygments_lexer": "ipython3",
   "version": "3.13.3"
  }
 },
 "nbformat": 4,
 "nbformat_minor": 5
}
